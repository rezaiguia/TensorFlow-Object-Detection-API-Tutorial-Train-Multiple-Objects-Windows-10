{
  "nbformat": 4,
  "nbformat_minor": 0,
  "metadata": {
    "colab": {
      "name": "Untitled0.ipynb",
      "version": "0.3.2",
      "provenance": [],
      "collapsed_sections": [],
      "include_colab_link": true
    },
    "kernelspec": {
      "name": "python3",
      "display_name": "Python 3"
    }
  },
  "cells": [
    {
      "cell_type": "markdown",
      "metadata": {
        "id": "view-in-github",
        "colab_type": "text"
      },
      "source": [
        "<a href=\"https://colab.research.google.com/github/rezaiguia/TensorFlow-Object-Detection-API-Tutorial-Train-Multiple-Objects-Windows-10/blob/master/Untitled0.ipynb\" target=\"_parent\"><img src=\"https://colab.research.google.com/assets/colab-badge.svg\" alt=\"Open In Colab\"/></a>"
      ]
    },
    {
      "metadata": {
        "id": "crz7cHz4G-OS",
        "colab_type": "code",
        "colab": {}
      },
      "cell_type": "code",
      "source": [
        "a = 2\n",
        "b = 5\n",
        "c = a * b\n",
        "print (c)"
      ],
      "execution_count": 0,
      "outputs": []
    },
    {
      "metadata": {
        "id": "8mmWqyvD6Meg",
        "colab_type": "code",
        "colab": {}
      },
      "cell_type": "code",
      "source": [
        "ma_chaine = \"avec doubles guillements\"\n",
        "maChaine = 'avec simples guillemets'\n",
        "monEntierQuiVaut3 = 3\n",
        "print(type(maChaine))\n",
        "print(maChaine)\n",
        "print(type(monEntierQuiVaut3) == int)"
      ],
      "execution_count": 0,
      "outputs": []
    },
    {
      "metadata": {
        "id": "S8Egz7Ud66aE",
        "colab_type": "code",
        "colab": {}
      },
      "cell_type": "code",
      "source": [
        "MA_CONSTANTE = \"ma_valeur_de_constante\"\n",
        "print(MA_CONSTANTE)"
      ],
      "execution_count": 0,
      "outputs": []
    },
    {
      "metadata": {
        "id": "prlE27mFOI4J",
        "colab_type": "code",
        "colab": {}
      },
      "cell_type": "code",
      "source": [
        "tableau = [1, 2, 3, 4 ,5 ,6]\n",
        "for valeur in tableau :\n",
        "  print (valeur)\n",
        "\n",
        "  cnt = 0\n",
        "  while cnt < len(tableau):\n",
        "    print(tableau[cnt])\n",
        "    cnt +=1\n"
      ],
      "execution_count": 0,
      "outputs": []
    },
    {
      "metadata": {
        "id": "nwHWszLepNvU",
        "colab_type": "code",
        "colab": {}
      },
      "cell_type": "code",
      "source": [
        "tableau = [1, 2, 3, 4 ,5 ,6]\n",
        "for valeur in tableau :\n",
        "  print (valeur)"
      ],
      "execution_count": 0,
      "outputs": []
    },
    {
      "metadata": {
        "id": "pOwwMUzmRjuR",
        "colab_type": "code",
        "colab": {}
      },
      "cell_type": "code",
      "source": [
        "valeur = input(\"entrez un nombre : \")\n",
        "print(type(valeur))\n",
        "f=float(valeur)\n",
        "print(type(f))\n",
        "print      "
      ],
      "execution_count": 0,
      "outputs": []
    },
    {
      "metadata": {
        "id": "FoKATZDkD8r5",
        "colab_type": "code",
        "colab": {
          "base_uri": "https://localhost:8080/",
          "height": 306
        },
        "outputId": "6c99fd4d-bf02-436b-f5bf-90d995a5478b"
      },
      "cell_type": "code",
      "source": [
        "couleurs = {\n",
        "    '#ff9900': 'orange',\n",
        "    '#00ff00': 'vert',\n",
        "    '#ff0000': 'rouge',\n",
        "    '#ff00ff': 'violet',\n",
        "    '#0000ff': 'bleu',\n",
        "    '#000000': 'noir',\n",
        "    '#ffffff': 'blanc',\n",
        "    '#ffff00': 'jaune'\n",
        "}\n",
        "print('<select name=\"couleurs\">')\n",
        "for cnt in couleurs:\n",
        "    print('\\t<option value=\"{}\" {} />{}</option>'.\n",
        "    format(cnt,\n",
        "          \"selected\" if couleurs[cnt] == 'rouge' else \"\",\n",
        "          couleurs[cnt]))\n",
        "    print('</select>')"
      ],
      "execution_count": 34,
      "outputs": [
        {
          "output_type": "stream",
          "text": [
            "<select name=\"couleurs\">\n",
            "\t<option value=\"#ff9900\"  />orange</option>\n",
            "</select>\n",
            "\t<option value=\"#00ff00\"  />vert</option>\n",
            "</select>\n",
            "\t<option value=\"#ff0000\" selected />rouge</option>\n",
            "</select>\n",
            "\t<option value=\"#ff00ff\"  />violet</option>\n",
            "</select>\n",
            "\t<option value=\"#0000ff\"  />bleu</option>\n",
            "</select>\n",
            "\t<option value=\"#000000\"  />noir</option>\n",
            "</select>\n",
            "\t<option value=\"#ffffff\"  />blanc</option>\n",
            "</select>\n",
            "\t<option value=\"#ffff00\"  />jaune</option>\n",
            "</select>\n"
          ],
          "name": "stdout"
        }
      ]
    },
    {
      "metadata": {
        "id": "FvqnZCXGNFQI",
        "colab_type": "code",
        "colab": {}
      },
      "cell_type": "code",
      "source": [
        "valeur = 32\n",
        "if valeur % 2 == 0:\n",
        "    print(\"pair\")\n",
        "else:\n",
        "    print(\"impair\")"
      ],
      "execution_count": 0,
      "outputs": []
    },
    {
      "metadata": {
        "id": "KJXgi3ymqa4l",
        "colab_type": "code",
        "colab": {
          "base_uri": "https://localhost:8080/",
          "height": 34
        },
        "outputId": "67c5b2a0-6e42-4dab-ba16-32b70a54301f"
      },
      "cell_type": "code",
      "source": [
        "valeur = 33\n",
        "if valeur % 2:\n",
        "  print(\"impair\")\n",
        "else:\n",
        "  print(\"pair\")"
      ],
      "execution_count": 19,
      "outputs": [
        {
          "output_type": "stream",
          "text": [
            "impair\n"
          ],
          "name": "stdout"
        }
      ]
    },
    {
      "metadata": {
        "id": "wYj5nXOZTIWI",
        "colab_type": "code",
        "colab": {}
      },
      "cell_type": "code",
      "source": [
        "valeur = \"\"\n",
        "while not valeur.isdigit()\n",
        "  valeur = input (\"entrez un nbr :\")\n",
        "  print(float)\n"
      ],
      "execution_count": 0,
      "outputs": []
    },
    {
      "metadata": {
        "id": "m5FWJekOVB5v",
        "colab_type": "code",
        "colab": {}
      },
      "cell_type": "code",
      "source": [
        "def maFonction(p1, p2):\n",
        "  return p1 * p2\n",
        "maFonction(5,4)"
      ],
      "execution_count": 0,
      "outputs": []
    },
    {
      "metadata": {
        "id": "K6kd0MaNXqSH",
        "colab_type": "code",
        "colab": {}
      },
      "cell_type": "code",
      "source": [
        "gbl = \"global\"\n",
        "print(gbl)\n",
        "def f(lcl,gbl):\n",
        "  lcl = \"local\"\n",
        "  gbl = \"modifie\"\n",
        "print(lcl)\n",
        "print(gbl)"
      ],
      "execution_count": 0,
      "outputs": []
    },
    {
      "metadata": {
        "id": "FbJ-MomJFUYf",
        "colab_type": "code",
        "colab": {}
      },
      "cell_type": "code",
      "source": [
        "ints = [1, 2, 3, 4, 5, 20, 21, 22, 23]\n",
        "first_two = ints[:2]\n",
        "print(first_two)\n",
        "last = ints[-1]\n",
        "print(last)\n",
        "all_but_last = ints[:-1]\n",
        "print(all_but_last)\n",
        "lower_than_twenty = ints[:ints.index(20)]\n",
        "print(lower_than_twenty)\n",
        "second_et_troisieme = ints[2:3]\n",
        "print(second_et_troisieme)"
      ],
      "execution_count": 0,
      "outputs": []
    },
    {
      "metadata": {
        "id": "olh9j7t2GtCZ",
        "colab_type": "code",
        "colab": {
          "base_uri": "https://localhost:8080/",
          "height": 34
        },
        "outputId": "4a2eb850-cb28-4dc0-ee1a-086f44f2c058"
      },
      "cell_type": "code",
      "source": [
        "ints = [1, 2, 3, 4, 5, 20, 21, 22, 23]\n",
        "double = ints + ints\n",
        "print(double)"
      ],
      "execution_count": 44,
      "outputs": [
        {
          "output_type": "stream",
          "text": [
            "[1, 2, 3, 4, 5, 20, 21, 22, 23, 1, 2, 3, 4, 5, 20, 21, 22, 23]\n"
          ],
          "name": "stdout"
        }
      ]
    },
    {
      "metadata": {
        "id": "dtgoOJYfG7Tz",
        "colab_type": "code",
        "colab": {}
      },
      "cell_type": "code",
      "source": [
        "ints = [1, 2, 3, 4, 5, 20, 21, 22, 23]\n",
        "a = ints.pop()\n",
        "print(a)\n",
        "print(ints)\n",
        "b = ints.append(31)\n",
        "print(b)\n",
        "print(ints)\n",
        "c = ints.insert(5, 15)\n",
        "print(c)\n",
        "print(ints)"
      ],
      "execution_count": 0,
      "outputs": []
    },
    {
      "metadata": {
        "id": "Up4dQD-OaJaA",
        "colab_type": "code",
        "colab": {
          "base_uri": "https://localhost:8080/",
          "height": 68
        },
        "outputId": "0bcf920d-1580-4cf1-d8e7-d7842cb5f943"
      },
      "cell_type": "code",
      "source": [
        "print(\"{:.2f}\".format(4.34456))\n",
        "print(\"{} - {}\".format(\"chaine 1\", \"chaine 2\"))\n",
        "print(\"{mot} {f:2f} {mot}\".format(mot=\"PI\", f=3.14))"
      ],
      "execution_count": 35,
      "outputs": [
        {
          "output_type": "stream",
          "text": [
            "4.34\n",
            "chaine 1 - chaine 2\n",
            "PI 3.140000 PI\n"
          ],
          "name": "stdout"
        }
      ]
    },
    {
      "metadata": {
        "id": "v2U3VyGtar8K",
        "colab_type": "code",
        "outputId": "0899c45a-54c7-4b8a-c896-7887cdbb96b1",
        "colab": {
          "base_uri": "https://localhost:8080/",
          "height": 34
        }
      },
      "cell_type": "code",
      "source": [
        "print(\"The sum of 1 + 2 is {0}\".format(1+2))\n"
      ],
      "execution_count": 25,
      "outputs": [
        {
          "output_type": "stream",
          "text": [
            "The sum of 1 + 2 is 3\n"
          ],
          "name": "stdout"
        }
      ]
    },
    {
      "metadata": {
        "id": "RYoC9eRibYaI",
        "colab_type": "code",
        "outputId": "dd8a3a02-9402-487d-c64d-2c2a3d5d289f",
        "colab": {
          "base_uri": "https://localhost:8080/",
          "height": 52
        }
      },
      "cell_type": "code",
      "source": [
        "tab=[3,6]\n",
        "print(\"{}/{}\".format(tab[0],tab[1]))\n",
        "\n",
        "tab=[3,6]\n",
        "print(\"{0}\".format(tab[0] + tab[1]))"
      ],
      "execution_count": 0,
      "outputs": [
        {
          "output_type": "stream",
          "text": [
            "3/6\n",
            "9\n"
          ],
          "name": "stdout"
        }
      ]
    },
    {
      "metadata": {
        "id": "nUEugS-wdoTn",
        "colab_type": "code",
        "outputId": "ad799327-acf0-4911-d01f-2925f8b8f441",
        "colab": {
          "base_uri": "https://localhost:8080/",
          "height": 35
        }
      },
      "cell_type": "code",
      "source": [
        "nom = \"bobby\"\n",
        "age = 3.5\n",
        "print(\"{} a {:2f} ans\".format(nom,age))"
      ],
      "execution_count": 0,
      "outputs": [
        {
          "output_type": "stream",
          "text": [
            "bobby a 3.500000 ans\n"
          ],
          "name": "stdout"
        }
      ]
    },
    {
      "metadata": {
        "id": "AkQo2I0zivwY",
        "colab_type": "code",
        "outputId": "1ed19dcb-c2dc-4a3c-b872-d563233b9baf",
        "colab": {
          "base_uri": "https://localhost:8080/",
          "height": 35
        }
      },
      "cell_type": "code",
      "source": [
        "tab = [3,7,1,7,7,9,2,25]\n",
        "sorted (set(tab))\n",
        "\n",
        "\n",
        "\n"
      ],
      "execution_count": 0,
      "outputs": [
        {
          "output_type": "execute_result",
          "data": {
            "text/plain": [
              "[1, 2, 3, 7, 9, 25]"
            ]
          },
          "metadata": {
            "tags": []
          },
          "execution_count": 57
        }
      ]
    },
    {
      "metadata": {
        "id": "KvasnCJOjjIx",
        "colab_type": "code",
        "colab": {}
      },
      "cell_type": "code",
      "source": [
        "tab = [3,7,1,7,7,9,2,25]\n",
        "set (tab)"
      ],
      "execution_count": 0,
      "outputs": []
    },
    {
      "metadata": {
        "id": "P3DlYB2RkG8R",
        "colab_type": "code",
        "colab": {}
      },
      "cell_type": "code",
      "source": [
        "dict = {\"tomates\":1,\"poivrons\":5,\"courgettes\":3}\n",
        "\n",
        "dict2 = {}\n",
        "for name in sorted(dict):\n",
        "  dict2[name] = dict[name]\n",
        "print(dict2)"
      ],
      "execution_count": 0,
      "outputs": []
    },
    {
      "metadata": {
        "id": "9nWTJez3mI2E",
        "colab_type": "code",
        "colab": {}
      },
      "cell_type": "code",
      "source": [
        "tuples = dict.items()\n",
        "print(tuples)"
      ],
      "execution_count": 0,
      "outputs": []
    },
    {
      "metadata": {
        "id": "4mUYwZtCmmma",
        "colab_type": "code",
        "colab": {}
      },
      "cell_type": "code",
      "source": [
        "tuples = List(dict.items())\n",
        "print(List(tuples))\n",
        "tuples[0]\n",
        "#debut = clé valeur\n",
        "{t[0]:t[1] for t in sorted(List(dict.items()))}"
      ],
      "execution_count": 0,
      "outputs": []
    },
    {
      "metadata": {
        "id": "MyQSfIaan6VI",
        "colab_type": "code",
        "colab": {}
      },
      "cell_type": "code",
      "source": [
        "print([i for i in range(0,11,2)])\n",
        "print([i*2 for i in range(0,6)])"
      ],
      "execution_count": 0,
      "outputs": []
    },
    {
      "metadata": {
        "id": "GDm7XvLDo6yh",
        "colab_type": "code",
        "colab": {}
      },
      "cell_type": "code",
      "source": [
        "tuples = list(dict.items())\n",
        "\n",
        "def get_value_as_key(elem_tuple):\n",
        "  return elem_tuple[1]\n",
        "\n",
        "sorted_by_name = {t[0]:t[1] for t in sorted(list(dict.items()))}\n",
        "\n",
        "sorted_by_quantity = {t[0]:t[1] for t in sorted(list(dict.items()), key=get_value_as_key)}\n",
        "\n",
        "print(sorted_by_name)\n",
        "print(sorted_by_quantity)"
      ],
      "execution_count": 0,
      "outputs": []
    },
    {
      "metadata": {
        "id": "y1mB3NZjrf_H",
        "colab_type": "code",
        "outputId": "c51e013b-299c-4e7d-d42f-d6d5c31dd05d",
        "colab": {
          "base_uri": "https://localhost:8080/",
          "height": 35
        }
      },
      "cell_type": "code",
      "source": [
        "def get_nul(elem_tuple):\n",
        "  return elem_tuple[0]*elem_tuple[1]\n",
        "dict_entiers = {1:11, 2:6, 3:7}\n",
        "sorted_by_mul = {t[0]:t[1] for t in sorted(list(dict_entiers.items()))}\n",
        "print(sorted_by_mul)"
      ],
      "execution_count": 0,
      "outputs": [
        {
          "output_type": "stream",
          "text": [
            "{1: 11, 2: 6, 3: 7}\n"
          ],
          "name": "stdout"
        }
      ]
    },
    {
      "metadata": {
        "id": "maMp25witujk",
        "colab_type": "code",
        "outputId": "30bf82da-89e8-495f-ba64-a5e69d438aa3",
        "colab": {
          "base_uri": "https://localhost:8080/",
          "height": 35
        }
      },
      "cell_type": "code",
      "source": [
        "email = \"ab@outofpluto.com\"\n",
        "email[email.index(\"@\")+1:]\n",
        "\n"
      ],
      "execution_count": 0,
      "outputs": [
        {
          "output_type": "execute_result",
          "data": {
            "text/plain": [
              "'outofpluto.com'"
            ]
          },
          "metadata": {
            "tags": []
          },
          "execution_count": 96
        }
      ]
    },
    {
      "metadata": {
        "id": "UAzzbT3bu3dM",
        "colab_type": "code",
        "outputId": "db5254f6-263b-4483-aee6-48f43f9fb708",
        "colab": {
          "base_uri": "https://localhost:8080/",
          "height": 35
        }
      },
      "cell_type": "code",
      "source": [
        "email = \"ab@outofpluto.com\"\n",
        "email[:email.index(\"@\")]"
      ],
      "execution_count": 0,
      "outputs": [
        {
          "output_type": "execute_result",
          "data": {
            "text/plain": [
              "'ab'"
            ]
          },
          "metadata": {
            "tags": []
          },
          "execution_count": 97
        }
      ]
    },
    {
      "metadata": {
        "id": "C3SWEEaSu8Jg",
        "colab_type": "code",
        "outputId": "781bc0c8-b3dd-489f-b49c-d1bdb3d5ecca",
        "colab": {
          "base_uri": "https://localhost:8080/",
          "height": 52
        }
      },
      "cell_type": "code",
      "source": [
        "email = \"ab@outofpluto.com\"\n",
        "email[email.index(\"@\")+1:]\n",
        "email[:email.index(\"@\")]\n",
        "tab.pop()\n",
        "print(tab)\n",
        "tab.insert(1,8)\n",
        "print(tab)"
      ],
      "execution_count": 0,
      "outputs": [
        {
          "output_type": "stream",
          "text": [
            "[3, 8, 7, 1, 7, 7, 9]\n",
            "[3, 8, 8, 7, 1, 7, 7, 9]\n"
          ],
          "name": "stdout"
        }
      ]
    },
    {
      "metadata": {
        "id": "2FQnnHBOvnWC",
        "colab_type": "code",
        "colab": {}
      },
      "cell_type": "code",
      "source": [
        "seq = list([1, 2, 3])\n",
        "print(hasattr(seq, \"__iter__\"))\n",
        "try:\n",
        "  next(seq)\n",
        "except:\n",
        "  print(\"list is iterable but is not an iterator\")\n",
        "iter_seq = iter(seq)\n",
        "print(hasattr(iter_seq, \"__iter__\"))\n",
        "next(iter_seq)\n",
        "\n",
        "for elem in seq:\n",
        "   print(elem)\n",
        "    \n",
        "next(iter_seq)\n",
        "next(iter_seq)\n",
        "next(iter_seq)\n",
        "\n"
      ],
      "execution_count": 0,
      "outputs": []
    },
    {
      "metadata": {
        "id": "5jxhLQjexneo",
        "colab_type": "code",
        "colab": {}
      },
      "cell_type": "code",
      "source": [
        "def get_multiples(number):\n",
        "  div = number\n",
        "  while True:\n",
        "    if number % div == 0:\n",
        "      yield number\n",
        "    #number += 1\n",
        "    number += div\n",
        "    \n",
        "ite_gen = get_multiples(3)\n",
        "print(next(ite_gen))\n",
        "print(next(ite_gen))"
      ],
      "execution_count": 0,
      "outputs": []
    },
    {
      "metadata": {
        "id": "CKJK_AWrLVZ8",
        "colab_type": "code",
        "colab": {
          "base_uri": "https://localhost:8080/",
          "height": 34
        },
        "outputId": "c3e288b3-19e4-43e6-8dc4-27b12b3505e2"
      },
      "cell_type": "code",
      "source": [
        "ch = \"Boukehil\"\n",
        "print(ch[0:3])"
      ],
      "execution_count": 65,
      "outputs": [
        {
          "output_type": "stream",
          "text": [
            "Bou\n"
          ],
          "name": "stdout"
        }
      ]
    },
    {
      "metadata": {
        "id": "0Eg0-sOxL5E2",
        "colab_type": "code",
        "colab": {
          "base_uri": "https://localhost:8080/",
          "height": 51
        },
        "outputId": "173f13d5-a12e-453e-f1d4-cd2d5d2f3a35"
      },
      "cell_type": "code",
      "source": [
        "liste =['jambon','fromage','miel','confiture','chocolat']\n",
        "print(liste[1:3])\n",
        "liste[1:3] =['salade']\n",
        "print(liste)"
      ],
      "execution_count": 74,
      "outputs": [
        {
          "output_type": "stream",
          "text": [
            "['fromage', 'miel']\n",
            "['jambon', 'salade', 'confiture', 'chocolat']\n"
          ],
          "name": "stdout"
        }
      ]
    },
    {
      "metadata": {
        "id": "lRQJvmXMH2_Q",
        "colab_type": "code",
        "colab": {}
      },
      "cell_type": "code",
      "source": [
        "import random\n",
        "for i in range(10):\n",
        "     print randint(2,9)"
      ],
      "execution_count": 0,
      "outputs": []
    },
    {
      "metadata": {
        "id": "cZD7zVMDJ-go",
        "colab_type": "code",
        "colab": {}
      },
      "cell_type": "code",
      "source": [
        "valeurs = range(0,10)\n",
        "print(valeurs)"
      ],
      "execution_count": 0,
      "outputs": []
    },
    {
      "metadata": {
        "id": "RWWlOajoKSmq",
        "colab_type": "code",
        "colab": {}
      },
      "cell_type": "code",
      "source": [
        "liste=[1, 2, 3, 4]\n",
        "for index in range(len(liste)) :\n",
        "  print(index, \"=\", liste[index])"
      ],
      "execution_count": 0,
      "outputs": []
    },
    {
      "metadata": {
        "id": "vuUmpD_cKk02",
        "colab_type": "code",
        "colab": {}
      },
      "cell_type": "code",
      "source": [
        "liste=[1, 2, 3, 4]\n",
        "index=0\n",
        "while index<len(liste) :\n",
        "  print(index, \"=\", liste[index])\n",
        "  index+=1"
      ],
      "execution_count": 0,
      "outputs": []
    }
  ]
}